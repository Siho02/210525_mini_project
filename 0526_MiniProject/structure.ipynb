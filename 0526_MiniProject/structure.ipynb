{
 "cells": [
  {
   "cell_type": "code",
   "execution_count": 2,
   "metadata": {},
   "outputs": [],
   "source": [
    "class Iphone:\n",
    "\n",
    "    def __init__(self, name, number, version=1.0) :\n",
    "\n",
    "    def update_version(self) :\n",
    "\n",
    "    def calling(self) :\n",
    "        print(call_num+'calling~')\n",
    "\n",
    "    def contact(self) :\n",
    "        with open('dataSet/contact.txt', 'r', encoding='utf-8') as contact_list:\n",
    "\n",
    "class Iphone2(Iphone):\n",
    "    def __init__(self, name, number, version=2.0) :\n",
    "\n",
    "    def send_message(self) :\n",
    "\n",
    "class Iphone3(Iphone2):\n",
    "    def __init__(self, name, number, version=3.0) :\n",
    "\n",
    "    def wifi_check(self):\n"
   ]
  },
  {
   "cell_type": "code",
   "execution_count": 3,
   "metadata": {},
   "outputs": [
    {
     "name": "stdout",
     "output_type": "stream",
     "text": [
      "개통을 축하합니다. tae3님\n",
      "tae3 01012341234 1.0\n",
      "--------이름 번호 버전 출력--------\n",
      "os version is updated!\n",
      "1.1\n",
      "--------전화 걸기--------\n",
      "phone number : 12345\n",
      "12345calling~\n",
      "--------연락처(있는 정보 검색)--------\n",
      "김\n",
      "['01012341234', '김철수\\n']\n",
      "['01022222222', '김미미\\n']\n",
      "['01012345678', '김철순']\n",
      "--------연락처(없는 정보 검색--------\n",
      "먀먀\n",
      "NO search result\n",
      "--------문자 보내기(내용 없음)--------\n",
      "text : \n",
      "FAILED : text is too short\n",
      "--------문자 보내기(내용 있음)--------\n",
      "text : 안녕하세요\n",
      "phone number : 123456789\n",
      "Message was sented to user123456789\n",
      "--------와이파이 비밀번호(맞는 경우)--------\n",
      "enter the password : 1234\n",
      "conneted\n",
      "--------와이파이 비밀번호(틀린 경우)--------\n",
      "enter the password : 5\n",
      "connet fail\n"
     ]
    }
   ],
   "source": [
    "tae3 = Iphone3('tae3', '01012341234')\n",
    "print(tae3.name, tae3.number, tae3.version)\n",
    "print('--------이름 번호 버전 출력--------')\n",
    "tae3.update_version()\n",
    "print(tae3.version)\n",
    "print('--------전화 걸기--------')\n",
    "tae3.calling()\n",
    "print('--------연락처(있는 정보 검색)--------')\n",
    "tae3.contact()\n",
    "print('--------연락처(없는 정보 검색--------')\n",
    "tae3.contact()\n",
    "print('--------문자 보내기(내용 없음)--------')\n",
    "tae3.send_message() \n",
    "print('--------문자 보내기(내용 있음)--------')\n",
    "tae3.send_message()\n",
    "print('--------와이파이 비밀번호(맞는 경우)--------')\n",
    "tae3.wifi_check()\n",
    "print('--------와이파이 비밀번호(틀린 경우)--------')\n",
    "tae3.wifi_check()"
   ]
  },
  {
   "cell_type": "code",
   "execution_count": null,
   "metadata": {},
   "outputs": [],
   "source": []
  }
 ],
 "metadata": {
  "kernelspec": {
   "display_name": "Python 3",
   "language": "python",
   "name": "python3"
  },
  "language_info": {
   "codemirror_mode": {
    "name": "ipython",
    "version": 3
   },
   "file_extension": ".py",
   "mimetype": "text/x-python",
   "name": "python",
   "nbconvert_exporter": "python",
   "pygments_lexer": "ipython3",
   "version": "3.8.3"
  }
 },
 "nbformat": 4,
 "nbformat_minor": 4
}
